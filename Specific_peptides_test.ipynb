{
 "cells": [
  {
   "cell_type": "markdown",
   "metadata": {},
   "source": [
    "File links and threshold values"
   ]
  },
  {
   "cell_type": "code",
   "execution_count": null,
   "metadata": {},
   "outputs": [],
   "source": [
    "list_link= 'https://github.com/SMBP-lab/Body-fluid-identification-proteomics/raw/main/Supplementary_Table_S4.xlsx'\n",
    "sample_sequence_link='https://github.com/SMBP-lab/Body-fluid-identification-proteomics/raw/main/data/sequence_samples.xlsx'\n",
    "\n",
    "#Threshold defined from ROC curve\n",
    "percentage_blood=26.31578947368421\n",
    "percentage_saliva=13.46153846153846\n",
    "percentage_semen=32.69230769230769\n",
    "percentage_urine=3\n",
    "percentage_vgf=28.57142857142857"
   ]
  },
  {
   "cell_type": "markdown",
   "metadata": {},
   "source": [
    "Packages importation"
   ]
  },
  {
   "cell_type": "code",
   "execution_count": null,
   "metadata": {},
   "outputs": [],
   "source": [
    "import pandas as pd\n",
    "import numpy as np\n",
    "import os\n",
    "import matplotlib.pyplot as plt\n",
    "from matplotlib.colors import LogNorm\n",
    "import seaborn as sns\n",
    "from openpyxl import Workbook\n",
    "from openpyxl.styles import PatternFill"
   ]
  },
  {
   "cell_type": "markdown",
   "metadata": {},
   "source": [
    "Loading files"
   ]
  },
  {
   "cell_type": "code",
   "execution_count": null,
   "metadata": {},
   "outputs": [],
   "source": [
    "data=pd.read_excel(sample_sequence_link)\n",
    "data=data.loc[data.loc[:,'Sample type']=='Sample',:]\n",
    "list_percentage=pd.Series(data=[percentage_blood,percentage_saliva,percentage_semen,percentage_urine,percentage_vgf],index=['Blood','Saliva','Semen','Urine','VGF'])"
   ]
  },
  {
   "cell_type": "markdown",
   "metadata": {},
   "source": [
    "Preparation of data file"
   ]
  },
  {
   "cell_type": "code",
   "execution_count": null,
   "metadata": {},
   "outputs": [],
   "source": [
    "def preparation_accession(data):\n",
    "    # Remplace empty data by nan\n",
    "    data_bis = data.replace(\"\", float(\"nan\"))\n",
    "    # Removing empty lines\n",
    "    data_bis = data_bis.dropna(how='all')\n",
    "    # Removing spaces at the begining and the end of each cell\n",
    "    data_bis = data_bis.applymap(lambda x: x.strip() if isinstance(x, str) else x)\n",
    "    #Changing \\ by /\n",
    "    data_bis['File path'] = data_bis['File path'].str.replace('\\\\', '/')\n",
    "    #Building file access links\n",
    "    data_bis[\"Accession\"]=data_bis[\"File path\"]+\"/\"+data_bis[\"File name\"]+\"_PeptideGroups.txt\"\n",
    "    return data_bis\n",
    "data=preparation_accession(data)"
   ]
  },
  {
   "cell_type": "markdown",
   "metadata": {},
   "source": [
    "Preparation of peptide list file"
   ]
  },
  {
   "cell_type": "code",
   "execution_count": null,
   "metadata": {},
   "outputs": [],
   "source": [
    "list_pep=pd.read_excel(list_link,engine='openpyxl')\n",
    "list_pep['Modifications']=list_pep['Modifications'].replace(0,np.nan)\n",
    "list_pep['Seq_modif'] = list_pep.apply(lambda row: row['Annotated Sequence'] + row['Modifications'] if not pd.isna(row['Modifications']) else row['Annotated Sequence'], axis=1) \n",
    "list_pep=list_pep.set_index('Seq_modif')"
   ]
  },
  {
   "cell_type": "markdown",
   "metadata": {},
   "source": [
    "Construction of a result file with all samples and all peptides of peptide list"
   ]
  },
  {
   "cell_type": "code",
   "execution_count": null,
   "metadata": {},
   "outputs": [],
   "source": [
    "def construction_file_result (sequence,list_pep):\n",
    "    result=list_pep.copy()\n",
    "    for ind in sequence.index:\n",
    "        name=sequence.loc[ind,\"Sample name\"]\n",
    "        acces=sequence.loc[ind,'Accession']\n",
    "        file_peptide_groups=pd.read_table(acces)\n",
    "        file_peptide_groups['Seq_modif'] = file_peptide_groups.apply(lambda row: row['Annotated Sequence'] + row['Modifications'] if not pd.isna(row['Modifications']) else row['Annotated Sequence'], axis=1)\n",
    "        file_peptide_groups=file_peptide_groups.set_index(\"Seq_modif\")\n",
    "        file_general=pd.concat([file_peptide_groups.filter(like='Master Protein Accessions'),file_peptide_groups.filter(like='Annotated Sequence'),file_peptide_groups['Modifications']],axis=1)\n",
    "        file_peptide_groups=pd.concat([file_peptide_groups.filter(like='PSM'),file_peptide_groups.filter(like='Abundance')],axis=1)\n",
    "        file_peptide_groups.columns=[\"PSMs_\"+name,\"Abundance_\"+name]\n",
    "        abundance_tot=file_peptide_groups.loc[:,'Abundance_'+name].sum(skipna=True)\n",
    "        if abundance_tot!=0:\n",
    "            file_peptide_groups[\"Normalized_abundance_\"+name]=file_peptide_groups['Abundance_'+name]/abundance_tot\n",
    "        else:\n",
    "            file_peptide_groups[\"Normalized_abundance_\"+name]=0\n",
    "        result=pd.concat([result,file_peptide_groups.reindex(result.index).fillna(0)],axis=1)\n",
    "    return(result)\n",
    "result_tot=construction_file_result(data,list_pep)"
   ]
  },
  {
   "cell_type": "markdown",
   "metadata": {},
   "source": [
    "Test fonction"
   ]
  },
  {
   "cell_type": "code",
   "execution_count": null,
   "metadata": {},
   "outputs": [],
   "source": [
    "fluids=['Blood','Saliva','Semen','Urine','VGF']\n",
    "def Test_fluid_list(result_tot,data,):\n",
    "    names=data['Sample name']\n",
    "    results_test=pd.DataFrame(index=['Blood','Saliva','Semen','Urine','VGF'])\n",
    "    for ech in names:\n",
    "        for fluide in fluids:\n",
    "            list_fluids=list_pep.loc[list_pep['Associated body fluid']==fluide,:]\n",
    "            pos=0\n",
    "            for ind in list_fluids.index:\n",
    "                if result_tot.loc[ind, 'Abundance_'+ech]>0:\n",
    "                    pos+=1\n",
    "            results_test.loc[fluide,ech]=pos/list_fluids.shape[0]\n",
    "    return(results_test)\n",
    "\n",
    "result_test=Test_fluid_list(result_tot,data)\n",
    "result_test"
   ]
  },
  {
   "cell_type": "code",
   "execution_count": null,
   "metadata": {},
   "outputs": [],
   "source": [
    "result=result_test.transpose()*100\n",
    "for fluid in fluids:\n",
    "    result['Conclusion '+fluid]=0\n",
    "\n",
    "def decision_presence_fluide (line_result,list_percentage):\n",
    "    for fluid in fluids:\n",
    "        if line_result.loc[fluid]>=list_percentage[fluid]:\n",
    "            line_result.loc['Conclusion '+fluid]=1\n",
    "    return(line_result)\n",
    "\n",
    "for ind in result.index:\n",
    "    result.loc[ind,:]=decision_presence_fluide(result.loc[ind],list_percentage)\n",
    "\n",
    "result"
   ]
  }
 ],
 "metadata": {
  "kernelspec": {
   "display_name": "my-env",
   "language": "python",
   "name": "python3"
  },
  "language_info": {
   "codemirror_mode": {
    "name": "ipython",
    "version": 3
   },
   "file_extension": ".py",
   "mimetype": "text/x-python",
   "name": "python",
   "nbconvert_exporter": "python",
   "pygments_lexer": "ipython3",
   "version": "3.12.1"
  }
 },
 "nbformat": 4,
 "nbformat_minor": 2
}
