{
 "cells": [
  {
   "cell_type": "markdown",
   "metadata": {},
   "source": [
    "File links and threshold values"
   ]
  },
  {
   "cell_type": "code",
   "execution_count": null,
   "metadata": {},
   "outputs": [],
   "source": [
    "list_link= 'https://github.com/SMBP-lab/Body-fluid-identification-proteomics/raw/main/Supplementary_Table_S2.xlsx'\n",
    "sample_sequence_link='https://github.com/SMBP-lab/Body-fluid-identification-proteomics/raw/main/data/sequence_samples.xlsx'\n",
    "\n",
    "#Threshold defined from ROC curve\n",
    "percentage_blood=44\n",
    "percentage_saliva=20\n",
    "percentage_semen=4\n",
    "percentage_urine=8\n",
    "percentage_vgf=40"
   ]
  },
  {
   "cell_type": "markdown",
   "metadata": {},
   "source": [
    "Packages importation"
   ]
  },
  {
   "cell_type": "code",
   "execution_count": null,
   "metadata": {},
   "outputs": [],
   "source": [
    "import pandas as pd"
   ]
  },
  {
   "cell_type": "markdown",
   "metadata": {},
   "source": [
    "Loading files"
   ]
  },
  {
   "cell_type": "code",
   "execution_count": null,
   "metadata": {},
   "outputs": [],
   "source": [
    "data=pd.read_excel(sample_sequence_link)\n",
    "data=data.loc[data.loc[:,'Sample type']=='Sample',:]\n",
    "list_percentage=pd.Series(data=[percentage_blood,percentage_saliva,percentage_semen,percentage_urine,percentage_vgf],index=['Blood','Saliva','Semen','Urine','VGF'])"
   ]
  },
  {
   "cell_type": "markdown",
   "metadata": {},
   "source": [
    "Preparation of data file"
   ]
  },
  {
   "cell_type": "code",
   "execution_count": null,
   "metadata": {},
   "outputs": [],
   "source": [
    "def preparation_accession(data):\n",
    "    # Remplace empty data by nan\n",
    "    data_bis = data.replace(\"\", float(\"nan\"))\n",
    "    # Removing empty lines\n",
    "    data_bis = data_bis.dropna(how='all')\n",
    "    # Removing spaces at the begining and the end of each cell\n",
    "    data_bis = data_bis.applymap(lambda x: x.strip() if isinstance(x, str) else x)\n",
    "    #Changing \\ by /\n",
    "    data_bis['File path'] = data_bis['File path'].str.replace('\\\\', '/')\n",
    "    #Building file access links\n",
    "    data_bis[\"Accession\"]=data_bis[\"File path\"]+\"/\"+data_bis[\"File name\"]+\"_PeptideGroups.txt\"\n",
    "    return data_bis\n",
    "data=preparation_accession(data)"
   ]
  },
  {
   "cell_type": "markdown",
   "metadata": {},
   "source": [
    "Preparation of ratio list file"
   ]
  },
  {
   "cell_type": "code",
   "execution_count": null,
   "metadata": {},
   "outputs": [],
   "source": [
    "list_ratios=pd.read_excel(list_link,engine='openpyxl')\n",
    "list_ratios['Seq_modif pep A']= list_ratios.apply(lambda row: row['Annotated Sequence of peptide A'] + row['Modifications of peptide A'] if not pd.isna(row['Modifications of peptide A']) else row['Annotated Sequence of peptide A'], axis=1)\n",
    "list_ratios['Seq_modif pep B']= list_ratios.apply(lambda row: row['Annotated Sequence of peptide B'] + row['Modifications of peptide B'] if not pd.isna(row['Modifications of peptide B']) else row['Annotated Sequence of peptide B'], axis=1)"
   ]
  },
  {
   "cell_type": "markdown",
   "metadata": {},
   "source": [
    "Construction of a result file with all samples and all peptides of peptide list"
   ]
  },
  {
   "cell_type": "code",
   "execution_count": null,
   "metadata": {},
   "outputs": [],
   "source": [
    "def construction_file_result (sequence,list_ratios):\n",
    "    result=list_ratios.copy()\n",
    "    for ind in sequence.index:\n",
    "        name=sequence.loc[ind,\"Sample name\"]\n",
    "        acces=sequence.loc[ind,'Accession']\n",
    "        file_peptide_groups=pd.read_table(acces)\n",
    "        file_peptide_groups['Seq_modif'] = file_peptide_groups.apply(lambda row: row['Annotated Sequence'] + row['Modifications'] if not pd.isna(row['Modifications']) else row['Annotated Sequence'], axis=1)\n",
    "        file_peptide_groups=file_peptide_groups.set_index(\"Seq_modif\")\n",
    "        file_peptide_groups=file_peptide_groups.filter(like='Abundance')\n",
    "        columns=pd.Series(index=result.index,name='Ratios '+name)\n",
    "        for r in columns.index:\n",
    "            if list_ratios.loc[r,'Seq_modif pep A'] in file_peptide_groups.index and list_ratios.loc[r,'Seq_modif pep B'] in file_peptide_groups.index:\n",
    "                columns.loc[r]=file_peptide_groups.loc[list_ratios.loc[r,'Seq_modif pep A'],:].values/file_peptide_groups.loc[list_ratios.loc[r,'Seq_modif pep B'],:].values\n",
    "            else:\n",
    "                  columns[r]=0\n",
    "        result=pd.concat([result,columns],axis=1)\n",
    "    return(result)\n",
    "result_tot=construction_file_result(data,list_ratios)"
   ]
  },
  {
   "cell_type": "markdown",
   "metadata": {},
   "source": [
    "Test fonction"
   ]
  },
  {
   "cell_type": "code",
   "execution_count": null,
   "metadata": {},
   "outputs": [],
   "source": [
    "fluids=['Blood','Saliva','Semen','Urine','VGF']\n",
    "def Test_fluid_ratios(result_tot,data,):\n",
    "    names=data['Sample name']\n",
    "    results_test=pd.DataFrame(index=['Blood','Saliva','Semen','Urine','VGF'])\n",
    "    for ech in names:\n",
    "        for fluid in fluids:\n",
    "            list_fluids=list_ratios.loc[list_ratios['Associated body fluid']==fluid,:]\n",
    "            pos=0\n",
    "            for ind in list_fluids.index:\n",
    "                if result_tot.loc[ind, 'Ratios '+ech]>list_ratios.loc[ind,\"Upper bound of the 99.99\"+\"%\"+\" confidence interval for other fluids\"] and list_ratios.loc[ind,'Mean ratio A/B for associated body fluid']>list_ratios.loc[ind,'Mean ratio A/B for other fluids']:\n",
    "                    pos+=1\n",
    "                if result_tot.loc[ind, 'Ratios '+ech]>list_ratios.loc[ind,\"Lower bound of the 99.99\"+\"%\"+\" confidence interval for other fluids\"] and list_ratios.loc[ind,'Mean ratio A/B for associated body fluid']<list_ratios.loc[ind,'Mean ratio A/B for other fluids']:\n",
    "                    pos+=1\n",
    "            results_test.loc[fluid,ech]=pos/list_fluids.shape[0]\n",
    "    return(results_test)\n",
    "\n",
    "result_test=Test_fluid_ratios(result_tot,data)"
   ]
  },
  {
   "cell_type": "code",
   "execution_count": null,
   "metadata": {},
   "outputs": [],
   "source": [
    "result=result_test.transpose()*100\n",
    "for fluid in fluids:\n",
    "    result['Conclusion '+fluid]=0\n",
    "\n",
    "def decision_presence_fluide (line_result,list_percentage):\n",
    "    for fluid in fluids:\n",
    "        if line_result.loc[fluid]>=list_percentage[fluid]:\n",
    "            line_result.loc['Conclusion '+fluid]=1\n",
    "    return(line_result)\n",
    "\n",
    "for ind in result.index:\n",
    "    result.loc[ind,:]=decision_presence_fluide(result.loc[ind],list_percentage)\n",
    "\n",
    "result"
   ]
  }
 ],
 "metadata": {
  "kernelspec": {
   "display_name": "my-env",
   "language": "python",
   "name": "python3"
  },
  "language_info": {
   "codemirror_mode": {
    "name": "ipython",
    "version": 3
   },
   "file_extension": ".py",
   "mimetype": "text/x-python",
   "name": "python",
   "nbconvert_exporter": "python",
   "pygments_lexer": "ipython3",
   "version": "3.12.1"
  }
 },
 "nbformat": 4,
 "nbformat_minor": 2
}
