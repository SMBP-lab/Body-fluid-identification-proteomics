{
 "cells": [
  {
   "cell_type": "markdown",
   "metadata": {},
   "source": [
    "File links and threshold values"
   ]
  },
  {
   "cell_type": "code",
   "execution_count": null,
   "metadata": {},
   "outputs": [],
   "source": [
    "list_link= 'https://github.com/SMBP-lab/Body-fluid-identification-proteomics/raw/main/Supplementary_Table_S3.xlsx'\n",
    "sample_sequence_link='https://github.com/SMBP-lab/Body-fluid-identification-proteomics/raw/main/data/sequence_samples.xlsx'\n",
    "model_link='https://github.com/SMBP-lab/Body-fluid-identification-proteomics/raw/main/best_model_random_forest.joblib'"
   ]
  },
  {
   "cell_type": "markdown",
   "metadata": {},
   "source": [
    "Packages importation"
   ]
  },
  {
   "cell_type": "code",
   "execution_count": null,
   "metadata": {},
   "outputs": [],
   "source": [
    "import pandas as pd\n",
    "import numpy as np\n",
    "import joblib\n",
    "import requests"
   ]
  },
  {
   "cell_type": "markdown",
   "metadata": {},
   "source": [
    "Loading files"
   ]
  },
  {
   "cell_type": "code",
   "execution_count": null,
   "metadata": {},
   "outputs": [],
   "source": [
    "data=pd.read_excel(sample_sequence_link)\n",
    "data=data.loc[data.loc[:,'Sample type']=='Sample',:]"
   ]
  },
  {
   "cell_type": "markdown",
   "metadata": {},
   "source": [
    "Preparation of data file"
   ]
  },
  {
   "cell_type": "code",
   "execution_count": null,
   "metadata": {},
   "outputs": [],
   "source": [
    "def preparation_accession(data):\n",
    "    # Remplace empty data by nan\n",
    "    data_bis = data.replace(\"\", float(\"nan\"))\n",
    "    # Removing empty lines\n",
    "    data_bis = data_bis.dropna(how='all')\n",
    "    # Removing spaces at the begining and the end of each cell\n",
    "    data_bis = data_bis.applymap(lambda x: x.strip() if isinstance(x, str) else x)\n",
    "    #Changing \\ by /\n",
    "    data_bis['File path'] = data_bis['File path'].str.replace('\\\\', '/')\n",
    "    #Building file access links\n",
    "    data_bis[\"Accession\"]=data_bis[\"File path\"]+\"/\"+data_bis[\"File name\"]+\"_PeptideGroups.txt\"\n",
    "    return data_bis\n",
    "data=preparation_accession(data)"
   ]
  },
  {
   "cell_type": "markdown",
   "metadata": {},
   "source": [
    "Preparation of peptide list file"
   ]
  },
  {
   "cell_type": "code",
   "execution_count": null,
   "metadata": {},
   "outputs": [],
   "source": [
    "list_pep=pd.read_excel(list_link,engine='openpyxl')\n",
    "list_pep['Modifications']=list_pep['Modifications'].replace(0,np.nan)\n",
    "list_pep['Seq_modif'] = list_pep.apply(lambda row: row['Annotated Sequence'] + row['Modifications'] if not pd.isna(row['Modifications']) else row['Annotated Sequence'], axis=1) \n",
    "list_pep=list_pep.set_index('Seq_modif')"
   ]
  },
  {
   "cell_type": "markdown",
   "metadata": {},
   "source": [
    "Construction of a result file with all samples and all peptides of peptide list"
   ]
  },
  {
   "cell_type": "code",
   "execution_count": null,
   "metadata": {},
   "outputs": [],
   "source": [
    "def construction_file_result (sequence,list_pep):\n",
    "    result=list_pep.copy()\n",
    "    for ind in sequence.index:\n",
    "        name=sequence.loc[ind,\"Sample name\"]\n",
    "        acces=sequence.loc[ind,'Accession']\n",
    "        file_peptide_groups=pd.read_table(acces)\n",
    "        file_peptide_groups['Seq_modif'] = file_peptide_groups.apply(lambda row: row['Annotated Sequence'] + row['Modifications'] if not pd.isna(row['Modifications']) else row['Annotated Sequence'], axis=1)\n",
    "        file_peptide_groups=file_peptide_groups.set_index(\"Seq_modif\")\n",
    "        file_peptide_groups=file_peptide_groups.filter(like='Abundance')\n",
    "        file_peptide_groups.columns=[\"Abundance_\"+name]\n",
    "        result=pd.concat([result,file_peptide_groups.reindex(result.index).fillna(0)],axis=1)\n",
    "    return(result)\n",
    "result_tot=construction_file_result(data,list_pep)"
   ]
  },
  {
   "cell_type": "markdown",
   "metadata": {},
   "source": [
    "Uploading RF trained model"
   ]
  },
  {
   "cell_type": "code",
   "execution_count": null,
   "metadata": {},
   "outputs": [],
   "source": [
    "# Uploading model file\n",
    "response = requests.get(model_link)\n",
    "with open('model.joblib', 'wb') as file:\n",
    "    file.write(response.content)\n",
    "model=joblib.load('model.joblib')"
   ]
  },
  {
   "cell_type": "markdown",
   "metadata": {},
   "source": [
    "Predictions"
   ]
  },
  {
   "cell_type": "code",
   "execution_count": null,
   "metadata": {},
   "outputs": [],
   "source": [
    "fluids=['Blood','Saliva','Semen','Urine','VGF']\n",
    "Y_pred=model.predict(result_tot.filter(like='Abundance_').transpose())\n",
    "result_test=pd.DataFrame(data=Y_pred,columns=fluids,index=data['Sample name'])"
   ]
  }
 ],
 "metadata": {
  "kernelspec": {
   "display_name": "my-env",
   "language": "python",
   "name": "python3"
  },
  "language_info": {
   "codemirror_mode": {
    "name": "ipython",
    "version": 3
   },
   "file_extension": ".py",
   "mimetype": "text/x-python",
   "name": "python",
   "nbconvert_exporter": "python",
   "pygments_lexer": "ipython3",
   "version": "3.12.1"
  }
 },
 "nbformat": 4,
 "nbformat_minor": 2
}
